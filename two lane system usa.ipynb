{
 "cells": [
  {
   "cell_type": "code",
   "execution_count": 19,
   "metadata": {
    "scrolled": false
   },
   "outputs": [
    {
     "data": {
      "image/png": "[encoded data removed]",
      "text/plain": [
       "<Figure size 432x288 with 1 Axes>"
      ]
     },
     "metadata": {
      "needs_background": "light"
     },
     "output_type": "display_data"
    }
   ],
   "source": [
    "#import random \n",
    "import numpy as np\n",
    "import matplotlib.pyplot as plt\n",
    "\n",
    "R = 100 #Länge d. str.\n",
    "t = 100#Zeit/iterationen\n",
    "D =0.9#dichte\n",
    "P = 0.1 #Trödelfaktor\n",
    "vmax = 5 #Maximalgeschwindigkeit\n",
    "\n",
    "file = open('vd9a.txt','w') #kreiere und öffne Textdatei für die Werte der Durchschnittsgeschwindigkeit pro Iterationsschritt\n",
    "\n",
    "auto_anzahl=int(R*D) #mache aus dichte eine ganzzahlige Auto Anzahl\n",
    "anfangszustand = [0]*(R-auto_anzahl)+[1]* auto_anzahl #wir haben leere plätze als 0 und autos als 1 definiert, liste\n",
    "np.random.shuffle(anfangszustand) #anfangszustand zufällig, elemente in liste werden vertauscht\n",
    "\n",
    "A=np.zeros((t,R)) #nullmatrix mit der Länge R (Länge der Straße) in x-Richtung und t in i-Richtung (Iterationsschritte/Zeitschritte)\n",
    "for x in range(R-1):\n",
    "    if anfangszustand[x]==1:\n",
    "        A[0][x]=1 #schreie Anfangszustand in die 0te Zeile der Matrix\n",
    "\n",
    "for i in range(t-1):\n",
    "    v_ges=0\n",
    "    for x in range(R):\n",
    "        if A[i][x]==1:\n",
    "            v=1\n",
    "            d=1\n",
    "            \n",
    "            while A[i][(x+d)%R]==0: #berechne Abstad d bis zum nächsten Auto\n",
    "                d+=1\n",
    "               # if A[i][(x+d)%R]==1:\n",
    "                #    break\n",
    "            if v<0:\n",
    "                v=0    \n",
    "            if d>v+1 and v<vmax: #auto beschleunigt, überhlen aber nicht; werden nicht schneller als Maximalgeschwindigkeit\n",
    "                v+=1\n",
    "            if v>0 and d<=v: #Auto bremst , wenn abstand nicht groß genug; wird nicht negativ\n",
    "                v=d-1\n",
    "            if v>0 and np.random.rand()<P: #Trödelfaktor\n",
    "                v-=1\n",
    "            if d>v and v>=vmax:\n",
    "                v=vmax\n",
    "            if d==1 and v==0:\n",
    "                v=0\n",
    "            #if A[i][R-1]==1: #auto springt an den anfang der straße wenn es am ende angelangt ist\n",
    "             #   A[i+1][0]=1\n",
    "            v_ges+=v #summiere alle geschwindigkeiten der Auto in einem Iterationsschritt\n",
    "            A[i+1][(x+v)%R]=1 \n",
    "        vges_float=float(v_ges) #von int in float\n",
    "        v_mittel=float(vges_float/auto_anzahl) #berechne durchschnittsgeschwindigkeit pro Iterationsschritt\n",
    "   # print(v_mittel)\n",
    "    file.write(str(v_mittel)) #schreibe durchschnttsgeschwindigkeit in Textdatei\n",
    "    file.write('\\n') #setzte Curser eine Zeile nach unten\n",
    "\n",
    "file.close() #schließe Textdatei\n",
    "\n",
    "plt.imshow(A, cmap=\"Greys\", interpolation=\"nearest\") #plotte Matrix\n",
    "plt.show()\n"
   ]
  },
  {
   "cell_type": "code",
   "execution_count": 20,
   "metadata": {},
   "outputs": [],
   "source": [
    "#Fluss berechnen\n",
    "file=open('fluss9a.txt','w') #öffne Textdatei für die Werte des Flusses\n",
    "\n",
    "for x in range(R): \n",
    "    F=0\n",
    "    for i in range(t-1):\n",
    "        if A[i][x]==1 and A[i+1][x]==0 or A[i][x]==0 and A[i+1][x]==1: #Zähle die Autos an einer stelle x über alle iterationen\n",
    "            F+=1\n",
    "        F_float=float(F) #int in float\n",
    "        fluss= float(F_float/t) #berechne fluss(teile durch die zeit -> autos pro sekunde an der stelle x)\n",
    "    #print(fluss) \n",
    "    file.write(str(fluss)) #schreibe Werte in Textdatei\n",
    "    file.write('\\n') #setzte Curser eine Zeile nach unten\n",
    "\n",
    "file.close() #schließe Textdatei"
   ]
  },
  {
   "cell_type": "code",
   "execution_count": 3,
   "metadata": {},
   "outputs": [
    {
     "name": "stdout",
     "output_type": "stream",
     "text": [
      "10\n",
      "10\n"
     ]
    }
   ],
   "source": [
    "a=[0]*R\n",
    "for x in range(R):\n",
    "    if A[99][x]==1:\n",
    "        a[x]=1\n",
    "print(a.count(1))\n",
    "print(auto_anzahl)\n"
   ]
  },
  {
   "cell_type": "code",
   "execution_count": null,
   "metadata": {},
   "outputs": [],
   "source": []
  },
  {
   "cell_type": "code",
   "execution_count": null,
   "metadata": {},
   "outputs": [],
   "source": []
  }
 ],
 "metadata": {
  "kernelspec": {
   "display_name": "Python 2",
   "language": "python",
   "name": "python2"
  },
  "language_info": {
   "codemirror_mode": {
    "name": "ipython",
    "version": 2
   },
   "file_extension": ".py",
   "mimetype": "text/x-python",
   "name": "python",
   "nbconvert_exporter": "python",
   "pygments_lexer": "ipython2",
   "version": "2.7.15"
  }
 },
 "nbformat": 4,
 "nbformat_minor": 2
}
