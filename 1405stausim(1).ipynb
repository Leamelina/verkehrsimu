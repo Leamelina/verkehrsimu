{
 "cells": [
  {
   "cell_type": "code",
   "execution_count": 4,
   "metadata": {},
   "outputs": [
    {
     "data": {
      "image/png": "[encoded data removed]",
      "text/plain": [
       "<Figure size 432x288 with 1 Axes>"
      ]
     },
     "metadata": {
      "needs_background": "light"
     },
     "output_type": "display_data"
    }
   ],
   "source": [
    "#import random \n",
    "import numpy as np\n",
    "import matplotlib.pyplot as plt\n",
    "\n",
    "R = 100 #Länge d. str.\n",
    "t = 100#Zeit/iterationen\n",
    "D =0.5#dichte\n",
    "P = 0.25\n",
    "vmax = 5\n",
    "\n",
    "file = open('vd.txt','w')\n",
    "\n",
    "auto_anzahl=int(R*D)\n",
    "anfangszustand = [0]*(R-auto_anzahl)+[1]* auto_anzahl #wir haben leere plätze als 0 und autos als 1 definiert, liste\n",
    "np.random.shuffle(anfangszustand) #anfangszustand zufällig, elemente in liste werden vertauscht\n",
    "\n",
    "A=np.zeros((t,R))\n",
    "for x in range(R-1):\n",
    "    if anfangszustand[x]==1:\n",
    "        A[0][x]=1\n",
    "\n",
    "for i in range(t-1):\n",
    "    v_ges=0\n",
    "    for x in range(R-1):\n",
    "        if A[i][x]==1:\n",
    "            v=1\n",
    "            d=1\n",
    "            \n",
    "            while A[i][(x+d)%R]==0:\n",
    "                d+=1\n",
    "               # if A[i][(x+d)%R]==1:\n",
    "                #    break\n",
    "                \n",
    "            if d>v+1 and v<vmax:\n",
    "                v+=1\n",
    "            if v>0 and d<=v:\n",
    "                v=d-1\n",
    "            if v>0 and np.random.rand()<P:\n",
    "                v-=1\n",
    "            if v<0:\n",
    "                v=0\n",
    "            if A[i][R-1]==1: #auto springt an den anfang der straße wenn es am ende angelangt ist\n",
    "                A[i+1][0]=1\n",
    "            v_ges+=v\n",
    "            A[i+1][(x+v)%R]=1\n",
    "        vges_float=float(v_ges)\n",
    "        #print (vges_float)\n",
    "        v_mittel=float(vges_float/auto_anzahl)\n",
    "    #print(v_mittel)\n",
    "    file.write(str(v_mittel))\n",
    "    file.write('\\n')\n",
    "\n",
    "file.close()\n",
    "\n",
    "plt.imshow(A, cmap=\"Greys\", interpolation=\"nearest\")\n",
    "plt.show()\n"
   ]
  },
  {
   "cell_type": "code",
   "execution_count": 168,
   "metadata": {},
   "outputs": [
    {
     "name": "stdout",
     "output_type": "stream",
     "text": [
      "45\n",
      "50\n"
     ]
    }
   ],
   "source": [
    "a=[0]*R\n",
    "for x in range(R):\n",
    "    if A[99][x]==1:\n",
    "        a[x]=1\n",
    "print(a.count(1))\n",
    "print(auto_anzahl)\n"
   ]
  },
  {
   "cell_type": "code",
   "execution_count": 8,
   "metadata": {},
   "outputs": [],
   "source": [
    "#Fluss berechnen\n",
    "file=open('fluss.txt','w')\n",
    "\n",
    "for x in range(R):\n",
    "    F=0\n",
    "    for i in range(t-1):\n",
    "        if A[i][x]==1 and A[i+1][x]==0 or A[i][x]==0 and A[i+1][x]==1:\n",
    "            F+=1\n",
    "        F_float=float(F)\n",
    "        fluss= float(F_float/t)\n",
    "    #print(fluss) \n",
    "    file.write(str(fluss))\n",
    "    file.write('\\n')\n",
    "\n",
    "file.close()"
   ]
  },
  {
   "cell_type": "code",
   "execution_count": 35,
   "metadata": {},
   "outputs": [
    {
     "data": {
      "image/png": "[encoded data removed]",
      "text/plain": [
       "<Figure size 432x288 with 1 Axes>"
      ]
     },
     "metadata": {
      "needs_background": "light"
     },
     "output_type": "display_data"
    }
   ],
   "source": [
    "\n",
    "T=np.zeros((t,R,2))\n",
    "for x in range(R-1):\n",
    "    if anfangszustand[x]==1:\n",
    "        T[0][x][0]=1\n",
    "\n",
    "for i in range(t-1):\n",
    "    for x in range(R-1):\n",
    "        for j in range(1):\n",
    "            if T[i][x][0]==1:\n",
    "           \n",
    "                v=1\n",
    "                d1=1\n",
    "                d2=1\n",
    "                while T[i][(x+d1)%R][0]==0:\n",
    "                    d1+=1\n",
    "                    if T[i][(x+d1)%R][0]==1:\n",
    "                        break\n",
    "                while T[i][(x+d2)%R][1]==0:\n",
    "                    d2+=1\n",
    "                    if T[i][(x+d2)%R][1]==1:\n",
    "                        break\n",
    "                if d1>v+1 and v<vmax:\n",
    "                    v+=1\n",
    "                if v>0 and d1<=v and d2<=v:\n",
    "                    v=d1-1\n",
    "                if v>0 and np.random.rand()<P:\n",
    "                    v-=1\n",
    "                if v<0:\n",
    "                    v=0\n",
    "                if T[i][R-1][j]==1: #auto springt an den anfang der straße wenn es am ende angelangt ist\n",
    "                    T[i+1][0][j]=1\n",
    "                \n",
    "            if T[i][x][1]==1:\n",
    "                v=1\n",
    "                if d2>v+1 and v<vmax:\n",
    "                    v+=1\n",
    "                if T[i][(x+v)%R][0]<d1:\n",
    "                    \n",
    "                \n",
    "            \n",
    "            T[i+1][(x+v)%R][j]=1\n",
    "\n",
    "\n",
    "                \n",
    "T1=np.zeros((t,R))\n",
    "T2=np.zeros((t,R))\n",
    "for i in range(t):\n",
    "    for x in range(R-1):\n",
    "        if T[i][x][0]==1:\n",
    "            T1[i][x]=1\n",
    "        if T[i][x][1]==1:\n",
    "            T2[i][x]=1\n",
    "\n",
    "\n",
    "plt.imshow(T1, cmap=\"Greys\", interpolation=\"nearest\")\n",
    "plt.show()\n",
    "\n"
   ]
  },
  {
   "cell_type": "code",
   "execution_count": 25,
   "metadata": {},
   "outputs": [
    {
     "name": "stdout",
     "output_type": "stream",
     "text": [
      "[[[0. 1. 1. ... 0. 0. 0.]\n",
      "  [0. 0. 0. ... 0. 0. 0.]]\n",
      "\n",
      " [[0. 1. 1. ... 0. 1. 0.]\n",
      "  [0. 0. 0. ... 0. 0. 0.]]\n",
      "\n",
      " [[0. 1. 1. ... 0. 0. 1.]\n",
      "  [0. 0. 0. ... 0. 0. 0.]]\n",
      "\n",
      " ...\n",
      "\n",
      " [[1. 0. 0. ... 1. 0. 0.]\n",
      "  [0. 0. 0. ... 0. 0. 0.]]\n",
      "\n",
      " [[0. 1. 0. ... 0. 0. 1.]\n",
      "  [0. 0. 0. ... 0. 0. 0.]]\n",
      "\n",
      " [[1. 1. 0. ... 1. 0. 0.]\n",
      "  [0. 0. 0. ... 0. 0. 0.]]]\n"
     ]
    }
   ],
   "source": [
    "print(T)"
   ]
  },
  {
   "cell_type": "code",
   "execution_count": null,
   "metadata": {},
   "outputs": [],
   "source": []
  }
 ],
 "metadata": {
  "kernelspec": {
   "display_name": "Python 2",
   "language": "python",
   "name": "python2"
  },
  "language_info": {
   "codemirror_mode": {
    "name": "ipython",
    "version": 2
   },
   "file_extension": ".py",
   "mimetype": "text/x-python",
   "name": "python",
   "nbconvert_exporter": "python",
   "pygments_lexer": "ipython2",
   "version": "2.7.15"
  }
 },
 "nbformat": 4,
 "nbformat_minor": 2
}
