{
 "cells": [
  {
   "cell_type": "code",
   "execution_count": 2,
   "metadata": {},
   "outputs": [
    {
     "data": {
      "image/png": "[encoded data removed]",
      "text/plain": [
       "<Figure size 432x288 with 1 Axes>"
      ]
     },
     "metadata": {
      "needs_background": "light"
     },
     "output_type": "display_data"
    }
   ],
   "source": [
    "#import random \n",
    "import numpy as np\n",
    "import matplotlib.pyplot as plt\n",
    "\n",
    "R = 100 #Länge d. str.\n",
    "t = 100#Zeit/iterationen\n",
    "D =0.4#dichte\n",
    "P = 0.25\n",
    "vmax = 5\n",
    "\n",
    "auto_anzahl=int(R*D)\n",
    "anfangszustand = [0]*(R-auto_anzahl)+[1]* auto_anzahl #wir haben leere plätze als 0 und autos als 1 definiert, liste\n",
    "np.random.shuffle(anfangszustand) #anfangszustand zufällig, elemente in liste werden vertauscht\n",
    "\n",
    "A=np.zeros((t,R))\n",
    "for x in range(R-1):\n",
    "    if anfangszustand[x]==1:\n",
    "        A[0][x]=1\n",
    "\n",
    "for i in range(t-1):\n",
    "   \n",
    "    for x in range(R-1):\n",
    "        if A[i][x]==1:\n",
    "           \n",
    "            v=1\n",
    "            d=1\n",
    "            while A[i][(x+d)%R]==0:\n",
    "                d+=1\n",
    "                if A[i][(x+d)%R]==1:\n",
    "                    break\n",
    "                \n",
    "            if d>v+1 and v<vmax:\n",
    "                v+=1\n",
    "            if v>0 and d<=v:\n",
    "                v=d-1\n",
    "            if v>0 and np.random.rand()<P:\n",
    "                v-=1\n",
    "            if A[i][R-1]==1: #auto springt an den anfang der straße wenn es am ende angelangt ist\n",
    "                A[i+1][0]=1\n",
    "            A[i+1][(x+v)%R]=1\n",
    "            \n",
    "     \n",
    "              \n",
    "plt.imshow(A, cmap=\"Greys\", interpolation=\"nearest\")\n",
    "plt.show()\n"
   ]
  },
  {
   "cell_type": "code",
   "execution_count": 5,
   "metadata": {},
   "outputs": [
    {
     "name": "stdout",
     "output_type": "stream",
     "text": [
      "39\n",
      "40\n"
     ]
    }
   ],
   "source": [
    "a=[0]*R\n",
    "for x in range(R):\n",
    "    if A[99][x]==1:\n",
    "        a[x]=1\n",
    "print(a.count(1))\n",
    "print(auto_anzahl)"
   ]
  },
  {
   "cell_type": "code",
   "execution_count": null,
   "metadata": {},
   "outputs": [],
   "source": []
  }
 ],
 "metadata": {
  "kernelspec": {
   "display_name": "Python 2",
   "language": "python",
   "name": "python2"
  },
  "language_info": {
   "codemirror_mode": {
    "name": "ipython",
    "version": 2
   },
   "file_extension": ".py",
   "mimetype": "text/x-python",
   "name": "python",
   "nbconvert_exporter": "python",
   "pygments_lexer": "ipython2",
   "version": "2.7.15"
  }
 },
 "nbformat": 4,
 "nbformat_minor": 2
}
