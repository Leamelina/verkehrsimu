{
 "cells": [
  {
   "cell_type": "code",
   "execution_count": 78,
   "metadata": {},
   "outputs": [],
   "source": [
    "from tkinter import *\n",
    "#import random as rand\n",
    "import time\n",
    "from pylab import *"
   ]
  },
  {
   "cell_type": "code",
   "execution_count": 135,
   "metadata": {},
   "outputs": [
    {
     "ename": "TclError",
     "evalue": "invalid command name \".131724512\"",
     "output_type": "error",
     "traceback": [
      "\u001b[1;31m\u001b[0m",
      "\u001b[1;31mTclError\u001b[0mTraceback (most recent call last)",
      "\u001b[1;32m<ipython-input-135-dd1aaab750be>\u001b[0m in \u001b[0;36m<module>\u001b[1;34m()\u001b[0m\n\u001b[0;32m     59\u001b[0m \u001b[1;32mwhile\u001b[0m \u001b[0mTrue\u001b[0m\u001b[1;33m:\u001b[0m\u001b[1;33m\u001b[0m\u001b[0m\n\u001b[0;32m     60\u001b[0m     \u001b[1;32mfor\u001b[0m \u001b[0mi\u001b[0m \u001b[1;32min\u001b[0m \u001b[0mrange\u001b[0m \u001b[1;33m(\u001b[0m\u001b[0mn\u001b[0m\u001b[1;33m)\u001b[0m\u001b[1;33m:\u001b[0m\u001b[1;33m\u001b[0m\u001b[0m\n\u001b[1;32m---> 61\u001b[1;33m         \u001b[0mcars\u001b[0m\u001b[1;33m[\u001b[0m\u001b[0mi\u001b[0m\u001b[1;33m]\u001b[0m\u001b[1;33m.\u001b[0m\u001b[0mmove\u001b[0m\u001b[1;33m(\u001b[0m\u001b[1;33m)\u001b[0m\u001b[1;33m\u001b[0m\u001b[0m\n\u001b[0m\u001b[0;32m     62\u001b[0m         \u001b[1;32mfor\u001b[0m \u001b[0mj\u001b[0m \u001b[1;32min\u001b[0m \u001b[0mrange\u001b[0m\u001b[1;33m(\u001b[0m\u001b[0mn\u001b[0m\u001b[1;33m)\u001b[0m\u001b[1;33m:\u001b[0m\u001b[1;33m\u001b[0m\u001b[0m\n\u001b[0;32m     63\u001b[0m             \u001b[0mposdiff\u001b[0m \u001b[1;33m=\u001b[0m \u001b[0mcars\u001b[0m\u001b[1;33m[\u001b[0m\u001b[0mi\u001b[0m\u001b[1;33m]\u001b[0m\u001b[1;33m.\u001b[0m\u001b[0mgetposrad\u001b[0m\u001b[1;33m(\u001b[0m\u001b[1;33m)\u001b[0m \u001b[1;33m-\u001b[0m \u001b[0mcars\u001b[0m\u001b[1;33m[\u001b[0m\u001b[0mj\u001b[0m\u001b[1;33m]\u001b[0m\u001b[1;33m.\u001b[0m\u001b[0mgetposrad\u001b[0m\u001b[1;33m(\u001b[0m\u001b[1;33m)\u001b[0m\u001b[1;33m\u001b[0m\u001b[0m\n",
      "\u001b[1;32m<ipython-input-135-dd1aaab750be>\u001b[0m in \u001b[0;36mmove\u001b[1;34m(self)\u001b[0m\n\u001b[0;32m     23\u001b[0m \u001b[1;33m\u001b[0m\u001b[0m\n\u001b[0;32m     24\u001b[0m \u001b[1;33m\u001b[0m\u001b[0m\n\u001b[1;32m---> 25\u001b[1;33m         \u001b[0mpos\u001b[0m \u001b[1;33m=\u001b[0m \u001b[0mcanvas\u001b[0m\u001b[1;33m.\u001b[0m\u001b[0mcoords\u001b[0m\u001b[1;33m(\u001b[0m\u001b[0mself\u001b[0m\u001b[1;33m.\u001b[0m\u001b[0mshape\u001b[0m\u001b[1;33m)\u001b[0m\u001b[1;33m\u001b[0m\u001b[0m\n\u001b[0m\u001b[0;32m     26\u001b[0m \u001b[1;33m\u001b[0m\u001b[0m\n\u001b[0;32m     27\u001b[0m \u001b[1;33m\u001b[0m\u001b[0m\n",
      "\u001b[1;32mC:\\Users\\Lea\\Anaconda2\\lib\\lib-tk\\Tkinter.pyc\u001b[0m in \u001b[0;36mcoords\u001b[1;34m(self, *args)\u001b[0m\n\u001b[0;32m   2297\u001b[0m         return map(getdouble,\n\u001b[0;32m   2298\u001b[0m                            self.tk.splitlist(\n\u001b[1;32m-> 2299\u001b[1;33m                    self.tk.call((self._w, 'coords') + args)))\n\u001b[0m\u001b[0;32m   2300\u001b[0m     \u001b[1;32mdef\u001b[0m \u001b[0m_create\u001b[0m\u001b[1;33m(\u001b[0m\u001b[0mself\u001b[0m\u001b[1;33m,\u001b[0m \u001b[0mitemType\u001b[0m\u001b[1;33m,\u001b[0m \u001b[0margs\u001b[0m\u001b[1;33m,\u001b[0m \u001b[0mkw\u001b[0m\u001b[1;33m)\u001b[0m\u001b[1;33m:\u001b[0m \u001b[1;31m# Args: (val, val, ..., cnf={})\u001b[0m\u001b[1;33m\u001b[0m\u001b[0m\n\u001b[0;32m   2301\u001b[0m         \u001b[1;34m\"\"\"Internal function.\"\"\"\u001b[0m\u001b[1;33m\u001b[0m\u001b[0m\n",
      "\u001b[1;31mTclError\u001b[0m: invalid command name \".131724512\""
     ]
    }
   ],
   "source": [
    "WIDTH = 500 #breite\n",
    "HEIGHT = 400 #höhe\n",
    "n = 10\n",
    "tk = Tk()\n",
    "canvas = Canvas(tk, width = WIDTH, height = HEIGHT)\n",
    "tk.title(\"Stausimmulation\")\n",
    "canvas.pack()\n",
    "\n",
    "class car:\n",
    "    def __init__(self, color, size, posrad, v, a):\n",
    "        self.shape = canvas.create_oval(10,10, 15, 15, fill = color)\n",
    "     \n",
    "        self.xspeed = 0\n",
    "        self.yspeed = 0\n",
    "        self.posrad = posrad \n",
    "        self.a = a\n",
    "        self.v = v\n",
    "    def getpos(self):\n",
    "        return canvas.coords(self.shape)\n",
    "    def getposrad(self):\n",
    "        return self.posrad\n",
    "    def move(self):\n",
    "        \n",
    "        \n",
    "        pos = canvas.coords(self.shape)\n",
    "        \n",
    "\n",
    "        #if self.v > 0:\n",
    "\n",
    "        \n",
    "        if self.v < 0:\n",
    "            self.v = 0\n",
    "        \n",
    "        if self.a > 0.0001: \n",
    "            self.a = 0.0001\n",
    "\n",
    "        if self.v > 0.01:\n",
    "            self.v = 0.01\n",
    "        \n",
    "        self.v+=self.a\n",
    "        self.posrad += self.v\n",
    "        self.posrad%=2*pi\n",
    "        \n",
    "        self.xspeed = -pos[0] + (WIDTH/2)+100*cos(self.posrad)\n",
    "        self.yspeed = -pos[1] + (HEIGHT/2)+100*sin(self.posrad)\n",
    "        \n",
    "        canvas.move(self.shape, self.xspeed, self.yspeed)\n",
    "        \n",
    "color = ['dark khaki', 'khaki', 'pale goldenrod', 'light goldenrod yellow',\n",
    "    'light yellow', 'yellow', 'gold', 'light goldenrod', 'goldenrod', 'dark goldenrod', 'rosy brown',\n",
    "    'indian red', 'saddle brown', 'sandy brown', 'gray99']        \n",
    "cars = []\n",
    "for i in range (n):\n",
    "    cars.append(car(choice(color),50, random()*2*pi, random()/1000, random()/1000))\n",
    "#cars.append(car(\"red\",50, random()*2*pi, 0.005, 0))\n",
    "#cars.append(car(\"red\",50, random()*2*pi, 0.003, 0.001))\n",
    "\n",
    "\n",
    "while True:\n",
    "    for i in range (n):\n",
    "        cars[i].move()\n",
    "        for j in range(n):\n",
    "            posdiff = cars[i].getposrad() - cars[j].getposrad()\n",
    "            if posdiff > -0.5 and posdiff < 0:\n",
    "                cars[i].a = -0.001\n",
    "            elif posdiff <= -0.5:\n",
    "                cars[i].a = 0.0001\n",
    "    tk.update()\n",
    "    time.sleep(0.01)\n",
    "\n",
    "tk.mainloop()"
   ]
  },
  {
   "cell_type": "code",
   "execution_count": null,
   "metadata": {},
   "outputs": [],
   "source": []
  },
  {
   "cell_type": "code",
   "execution_count": null,
   "metadata": {},
   "outputs": [],
   "source": []
  }
 ],
 "metadata": {
  "kernelspec": {
   "display_name": "Python 2",
   "language": "python",
   "name": "python2"
  },
  "language_info": {
   "codemirror_mode": {
    "name": "ipython",
    "version": 2
   },
   "file_extension": ".py",
   "mimetype": "text/x-python",
   "name": "python",
   "nbconvert_exporter": "python",
   "pygments_lexer": "ipython2",
   "version": "2.7.15"
  }
 },
 "nbformat": 4,
 "nbformat_minor": 2
}
